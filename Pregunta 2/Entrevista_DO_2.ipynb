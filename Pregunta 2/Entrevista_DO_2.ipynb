{
 "cells": [
  {
   "cell_type": "code",
   "execution_count": 433,
   "id": "4b46c89c-4ba0-4cf4-9999-5b196004ba3c",
   "metadata": {},
   "outputs": [],
   "source": [
    "import pandas as pd\n",
    "\n"
   ]
  },
  {
   "cell_type": "code",
   "execution_count": 435,
   "id": "b85959f4-0330-4193-b286-81d7cd4cc373",
   "metadata": {},
   "outputs": [],
   "source": [
    "df = pd.read_csv(\"datos_viviendas_censo.csv\")"
   ]
  },
  {
   "cell_type": "code",
   "execution_count": 437,
   "id": "e7a2f609-b6a2-4203-9267-f8db0590834b",
   "metadata": {},
   "outputs": [
    {
     "data": {
      "text/plain": [
       "Index(['id_vivienda', 'comuna', 'tipo_vivienda', 'num_dormitorios',\n",
       "       'num_banos', 'superficie_m2', 'ano_construccion', 'material_paredes',\n",
       "       'material_techo', 'num_personas_hogar', 'num_hombres', 'num_mujeres',\n",
       "       'num_menores_18', 'num_adultos_18_64', 'num_adultos_65_plus',\n",
       "       'ingreso_mensual_hogar', 'jefe_hogar_edad', 'jefe_hogar_sexo',\n",
       "       'jefe_hogar_educacion', 'agua_potable', 'electricidad', 'gas_natural',\n",
       "       'internet', 'telefono_fijo', 'vehiculo_propio', 'tenencia_vivienda'],\n",
       "      dtype='object')"
      ]
     },
     "execution_count": 437,
     "metadata": {},
     "output_type": "execute_result"
    }
   ],
   "source": [
    "df.keys()"
   ]
  },
  {
   "cell_type": "code",
   "execution_count": 439,
   "id": "3f99357f-116e-43fe-b106-5b887b8ab813",
   "metadata": {},
   "outputs": [],
   "source": [
    "#Estandarización y deduplicación"
   ]
  },
  {
   "cell_type": "code",
   "execution_count": 441,
   "id": "1a1b17dd-f475-4e3c-867d-7a321e7815e2",
   "metadata": {},
   "outputs": [
    {
     "name": "stdout",
     "output_type": "stream",
     "text": [
      "Las comunas antes de la limpieza son: \n",
      "['Vallenar' 'Coyhaique' 'La Serena' 'Curicó' 'Los Ángeles' 'Providencia'\n",
      " 'San Antonio' 'Ñuñoa' 'San Fernando' 'Arica' 'San Bernardo'\n",
      " 'Alto Hospicio' 'Ovalle' 'Villarrica' 'Iquique' 'Calama' 'Las Condes'\n",
      " 'Copiapó' 'Puerto Montt' 'Rancagua' 'Valparaíso' 'Valdivia' 'Talca'\n",
      " 'Puente Alto' 'Santiago' 'La Florida' 'Punta Arenas' 'Coquimbo' 'Castro'\n",
      " 'Maipú' 'Viña del Mar' 'Chillán' 'Quilpué' 'Los Andes' 'Talcahuano'\n",
      " 'Osorno' 'Villa Alemana' 'Quillota' 'Concepción' 'Temuco' 'Antofagasta'\n",
      " 'concepcion' 'Provi' 'VALPARAÍSO' 'CONCEPCIÓN' 'Valpo' 'Stgo' 'Putre'\n",
      " 'LAS CONDES' 'PROVIDENCIA' 'providencia' 'las condes' 'Condes' 'SANTIAGO'\n",
      " 'santiago' 'valparaiso' 'Conce']\n",
      "--------------------------------------------------\n",
      "Las comunas despues de la limpieza son: \n",
      "['Vallenar' 'Coyhaique' 'La Serena' 'Curicó' 'Los Ángeles' 'Providencia'\n",
      " 'San Antonio' 'Ñuñoa' 'San Fernando' 'Arica' 'San Bernardo'\n",
      " 'Alto Hospicio' 'Ovalle' 'Villarrica' 'Iquique' 'Calama' 'Las Condes'\n",
      " 'Copiapó' 'Puerto Montt' 'Rancagua' 'Valparaíso' 'Valdivia' 'Talca'\n",
      " 'Puente Alto' 'Santiago' 'La Florida' 'Punta Arenas' 'Coquimbo' 'Castro'\n",
      " 'Maipú' 'Viña del Mar' 'Chillán' 'Quilpué' 'Los Andes' 'Talcahuano'\n",
      " 'Osorno' 'Villa Alemana' 'Quillota' 'Concepción' 'Temuco' 'Antofagasta'\n",
      " 'Putre']\n"
     ]
    }
   ],
   "source": [
    "df[\"comuna\"].unique()\n",
    "\n",
    "print(\"Las comunas antes de la limpieza son: \")\n",
    "print(df[\"comuna\"].unique())\n",
    "print(\"-\"*50)\n",
    "\n",
    "mapeo_comuna = {\n",
    "    \"concepcion\": \"Concepción\",\n",
    "    \"CONCEPCIÓN\": \"Concepción\",\n",
    "    \"Conce\": \"Concepción\",\n",
    "    \"Concepción\": \"Concepción\",\n",
    "\n",
    "    \"VALPARAÍSO\": \"Valparaíso\",\n",
    "    \"Valpo\": \"Valparaíso\",\n",
    "    \"valparaiso\": \"Valparaíso\",\n",
    "    \"Valparaíso\": \"Valparaíso\",\n",
    "\n",
    "    \"Stgo\": \"Santiago\",\n",
    "    \"SANTIAGO\": \"Santiago\",\n",
    "    \"santiago\": \"Santiago\",\n",
    "    \"Santiago\": \"Santiago\",\n",
    "\n",
    "    \"LAS CONDES\": \"Las Condes\",\n",
    "    \"las condes\": \"Las Condes\",\n",
    "    \"Condes\": \"Las Condes\",\n",
    "    \"Las Condes\": \"Las Condes\",\n",
    "\n",
    "    \"PROVIDENCIA\": \"Providencia\",\n",
    "    \"providencia\": \"Providencia\",\n",
    "    \"Provi\": \"Providencia\",\n",
    "    \"Providencia\": \"Providencia\",\n",
    "\n",
    "    # El resto quedan igual, pero puedes agregarlos aquí si tienes variantes\n",
    "    # Ejemplo: \"maipú\": \"Maipú\", si tuvieras alguna variante más\n",
    "}\n",
    "df[\"comuna\"] = df[\"comuna\"].replace(mapeo_comuna)\n",
    "print(\"Las comunas despues de la limpieza son: \")\n",
    "print(df[\"comuna\"].unique())"
   ]
  },
  {
   "cell_type": "code",
   "execution_count": 443,
   "id": "fe6fa608-6bef-4917-b101-d8d6d8b67ca1",
   "metadata": {},
   "outputs": [
    {
     "name": "stdout",
     "output_type": "stream",
     "text": [
      "La cantidad de filas para los datos sin eliminar duplicados es:  31660\n",
      "La cantidad de filas para los datos al eliminar duplicados es:  31652\n"
     ]
    }
   ],
   "source": [
    "#Eliminar duplicados\n",
    "print(\"La cantidad de filas para los datos sin eliminar duplicados es: \" , len(df))\n",
    "df = df[~(df.drop(\"id_vivienda\",axis=1).duplicated(keep='first'))]\n",
    "print(\"La cantidad de filas para los datos al eliminar duplicados es: \" , len(df))\n"
   ]
  },
  {
   "cell_type": "code",
   "execution_count": 445,
   "id": "54d13a94-d492-45a4-9fb0-beb7ead0cb11",
   "metadata": {},
   "outputs": [],
   "source": [
    "#Revisión relacion Numero de personas x Genero"
   ]
  },
  {
   "cell_type": "code",
   "execution_count": 447,
   "id": "d48d0cb7-a5f1-4821-9aad-a03a4de25b50",
   "metadata": {},
   "outputs": [
    {
     "name": "stdout",
     "output_type": "stream",
     "text": [
      "En el dataset la suma de Hombres es de: 105780\n",
      "En el dataset la suma de Mujeres es de: 106286\n",
      "En total la suma de el numero de personas en los hogares da un total de: 212066\n",
      "En total la suma de el numero de personas en los hogares utilizando las columnas de Hombres y Mujeres da un total de: 212066\n",
      "Diferencia:  0\n",
      "--------------------------------------------------\n",
      "No existe una incongruencia al comparar la suma de Hombres y mujeres vs el total del hogar\n"
     ]
    }
   ],
   "source": [
    "total_hogar_global = df[\"num_personas_hogar\"].sum()\n",
    "total_mujeres_y_hombres_global = df[\"num_hombres\"].sum() + df[\"num_mujeres\"].sum()\n",
    "print(f\"En el dataset la suma de Hombres es de:\", df[\"num_hombres\"].sum() )\n",
    "print(f\"En el dataset la suma de Mujeres es de:\", df[\"num_mujeres\"].sum() )\n",
    "print(f\"En total la suma de el numero de personas en los hogares da un total de: {total_hogar_global}\")\n",
    "print(f\"En total la suma de el numero de personas en los hogares utilizando las columnas de Hombres y Mujeres da un total de: {total_mujeres_y_hombres_global}\") \n",
    "print(\"Diferencia: \",total_hogar_global -  total_mujeres_y_hombres_global)\n",
    "df[\"Total_Hombre_Mujeres\"] = df[\"num_hombres\"] + df[\"num_mujeres\"]\n",
    "print(\"-\"*50)\n",
    "if len(df[df[\"Total_Hombre_Mujeres\"] == df[\"num_personas_hogar\"]]) == len(df):\n",
    "    print(\"No existe una incongruencia al comparar la suma de Hombres y mujeres vs el total del hogar\")\n",
    "else:\n",
    "    print(\"si existe una incongruencia al comparar la suma de Hombres y mujeres vs el total del hogar\")\n",
    "    print(df[~(df[\"Total_Hombre_Mujeres\"] == df[\"num_personas_hogar\"])])\n"
   ]
  },
  {
   "cell_type": "code",
   "execution_count": 449,
   "id": "e38983ad-3967-4b4e-b317-a9b701a544df",
   "metadata": {},
   "outputs": [],
   "source": [
    "#Revisión relacion Numero de personas x Grupos etarios"
   ]
  },
  {
   "cell_type": "code",
   "execution_count": 451,
   "id": "324ce41e-4b90-44ed-a51f-8f05d5594ffc",
   "metadata": {},
   "outputs": [
    {
     "name": "stdout",
     "output_type": "stream",
     "text": [
      "En el dataset la suma de menores de 18 es de: 52513\n",
      "En el dataset la suma de mayores de 18 y menores de 64 de: 80458\n",
      "En el dataset la suma de mayores de 64 es de: 79095\n",
      "En total la suma de el numero de personas en los hogares da un total de: 212066\n",
      "En total la suma de el numero de personas en los hogares utilizando las columnas de Hombres y Mujeres da un total de: 212066\n",
      "Diferencia:  0\n",
      "--------------------------------------------------\n",
      "No existe una incongruencia al comparar la suma de Hombres y mujeres vs el total del hogar\n"
     ]
    }
   ],
   "source": [
    "total_hogar_global = df[\"num_personas_hogar\"].sum()\n",
    "total_etarios_global = df[\"num_menores_18\"].sum() + df[\"num_adultos_18_64\"].sum() + df[\"num_adultos_65_plus\"].sum()\n",
    "print(f\"En el dataset la suma de menores de 18 es de:\", df[\"num_menores_18\"].sum() )\n",
    "print(f\"En el dataset la suma de mayores de 18 y menores de 64 de:\", df[\"num_adultos_18_64\"].sum() )\n",
    "print(f\"En el dataset la suma de mayores de 64 es de:\", df[\"num_adultos_65_plus\"].sum() )\n",
    "print(f\"En total la suma de el numero de personas en los hogares da un total de: {total_hogar_global}\")\n",
    "print(f\"En total la suma de el numero de personas en los hogares utilizando las columnas de Hombres y Mujeres da un total de: {total_etarios_global}\") \n",
    "print(\"Diferencia: \",total_hogar_global -  total_etarios_global)\n",
    "df[\"Total_etarios\"] = df[\"num_hombres\"] + df[\"num_mujeres\"]\n",
    "print(\"-\"*50)\n",
    "if len(df[df[\"Total_etarios\"] == df[\"num_personas_hogar\"]]) == len(df):\n",
    "    print(\"No existe una incongruencia al comparar la suma de Hombres y mujeres vs el total del hogar\")\n",
    "else:\n",
    "    print(\"si existe una incongruencia al comparar la suma de Hombres y mujeres vs el total del hogar\")\n",
    "    print(df[~(df[\"Total_etarios\"] == df[\"num_personas_hogar\"])])"
   ]
  },
  {
   "cell_type": "code",
   "execution_count": 453,
   "id": "099bdb49-3414-49fc-b186-87b81ea0dde6",
   "metadata": {},
   "outputs": [],
   "source": [
    "#Revisión relacion Numero de personas x dormitorios"
   ]
  },
  {
   "cell_type": "code",
   "execution_count": 455,
   "id": "8942586a-f671-45fd-a860-6f0f9b64950a",
   "metadata": {},
   "outputs": [
    {
     "name": "stdout",
     "output_type": "stream",
     "text": [
      "Teniendo como premisa que 2 personas pueden compartir un dormitorio el numero minimo de dormitorios es: 113912.0\n",
      "El total de dormitorios es de: 95058\n",
      "La relación entre el minimo de dormitorios con los dormitorios reales es de 0.8344862701032376\n",
      "Existe un deficit de dormitorios del:  16.55%\n"
     ]
    }
   ],
   "source": [
    "import math\n",
    "import numpy as np\n",
    "\n",
    "dormitorios = df[\"num_dormitorios\"]\n",
    "personas_hogar = df[\"num_personas_hogar\"]\n",
    "#Tomando como logica que 2 personas pueden compartir un dormitorio, el calculo para saber cual es la cantidad de dormitorios minimos para cada hogar\n",
    "#es personas_hogar / 2\n",
    "dormitorios_Minimo = np.ceil(personas_hogar / 2)\n",
    "relacion_mindormitorios_dormitoriostotales = dormitorios.sum() / dormitorios_Minimo.sum()\n",
    "print(f\"Teniendo como premisa que 2 personas pueden compartir un dormitorio el numero minimo de dormitorios es: {dormitorios_Minimo.sum()}\")\n",
    "print(f\"El total de dormitorios es de: {dormitorios.sum()}\")\n",
    "print(f\"La relación entre el minimo de dormitorios con los dormitorios reales es de {relacion_mindormitorios_dormitoriostotales}\")\n",
    "print(f\"Existe un deficit de dormitorios del:  {round(1-relacion_mindormitorios_dormitoriostotales,4)*100}%\")\n"
   ]
  },
  {
   "cell_type": "code",
   "execution_count": 457,
   "id": "e770b87a-5715-426e-b887-da3eeaa65136",
   "metadata": {},
   "outputs": [],
   "source": [
    "#Servicios Basicos\n",
    "#'agua_potable', 'electricidad', 'gas_natural',\n",
    "     #  'internet', 'telefono_fijo',"
   ]
  },
  {
   "cell_type": "code",
   "execution_count": 459,
   "id": "4d442b12-7281-4fc6-8251-bd202e75765f",
   "metadata": {},
   "outputs": [
    {
     "name": "stdout",
     "output_type": "stream",
     "text": [
      "La cantidad de hogares que presentan internet sin electricidad es de:  8430\n",
      "La cantidad de hogares que presentan telefono_fijo sin electricidad es de:  8027\n",
      "La cantidad de hogares que presentan telefono_fijo y internet sin electricidad es de:  4161\n"
     ]
    }
   ],
   "source": [
    "internet_sin_electricidad = df[(df[\"electricidad\"] == \"No\") & (df[\"internet\"] == \"Sí\")]\n",
    "telefono_fijo_sin_electricidad = df[(df[\"electricidad\"] == \"No\") & (df[\"telefono_fijo\"] == \"Sí\")]\n",
    "tf_internet_sin_electricidad = df[(df[\"electricidad\"] == \"No\") & (df[\"telefono_fijo\"] == \"Sí\") & (df[\"internet\"] == \"Sí\")]\n",
    "print(\"La cantidad de hogares que presentan internet sin electricidad es de: \",len(internet_sin_electricidad))\n",
    "print(\"La cantidad de hogares que presentan telefono_fijo sin electricidad es de: \",len(telefono_fijo_sin_electricidad))\n",
    "print(\"La cantidad de hogares que presentan telefono_fijo y internet sin electricidad es de: \",len(tf_internet_sin_electricidad))"
   ]
  },
  {
   "cell_type": "code",
   "execution_count": 461,
   "id": "41c9e558-28f1-4021-9bd4-40e19d70bc9d",
   "metadata": {},
   "outputs": [],
   "source": [
    "#Ingresos x Caracteristicas de vivienda"
   ]
  },
  {
   "cell_type": "code",
   "execution_count": 486,
   "id": "725000e7-68e4-47b5-b17d-8af1f60be2dd",
   "metadata": {},
   "outputs": [
    {
     "name": "stdout",
     "output_type": "stream",
     "text": [
      "Dentro del dataset se presentan valores considerados outliers inferiores en donde el promedio de sus ingresos son : 384581.35101010103\n",
      "Dentro del dataset se presentan valores considerados outliers inferiores en donde el promedio de sus m2 son : 169.93989898989895\n",
      "--------------------------------------------------\n",
      "Dentro del dataset se presentan valores considerados outliers superiores en donde el promedio de sus ingresos son : 2617869.577020202\n",
      "Dentro del dataset se presentan valores considerados outliers superiores en donde el promedio de sus m2 son : 36.50126262626262\n"
     ]
    }
   ],
   "source": [
    "relacion = df[\"ingreso_mensual_hogar\"] / df[\"superficie_m2\"]\n",
    "\n",
    "# Calcula los percentiles\n",
    "percentil_02 = relacion.quantile(0.025)\n",
    "percentil_97 = relacion.quantile(0.975)\n",
    "\n",
    "outliers_inferiores = df[(relacion < percentil_02)]\n",
    "outliers_superiores = df[(relacion > percentil_97)]\n",
    "print(\"Dentro del dataset se presentan valores considerados outliers inferiores en donde el promedio de sus ingresos son :\",outliers_inferiores[\"ingreso_mensual_hogar\"].mean())\n",
    "print(\"Dentro del dataset se presentan valores considerados outliers inferiores en donde el promedio de sus m2 son :\",outliers_inferiores[\"superficie_m2\"].mean())\n",
    "print(\"-\"*50)\n",
    "print(\"Dentro del dataset se presentan valores considerados outliers superiores en donde el promedio de sus ingresos son :\",outliers_superiores[\"ingreso_mensual_hogar\"].mean())\n",
    "print(\"Dentro del dataset se presentan valores considerados outliers superiores en donde el promedio de sus m2 son :\",outliers_superiores[\"superficie_m2\"].mean())"
   ]
  },
  {
   "cell_type": "code",
   "execution_count": 490,
   "id": "196513e7-4c45-4afc-8f96-77318581b381",
   "metadata": {},
   "outputs": [
    {
     "name": "stdout",
     "output_type": "stream",
     "text": [
      "La relación de los tipos de casa y materiales de paredes es:\n",
      "--------------------------------------------------\n",
      "material_paredes  Adobe  Hormigón  Ladrillo  Madera\n",
      "tipo_vivienda                                      \n",
      "Casa               1831      2122      2025    1960\n",
      "Casa pareada       1920      2010      1994    1947\n",
      "Departamento       1997      2017      2007    1941\n",
      "Mediagua           1897      2060      1995    1929\n"
     ]
    }
   ],
   "source": [
    "#Tipo vivienda x Materiales\n",
    "#tipo_vivienda\n",
    "#material_paredes\n",
    "mapeo_tipo_vivienda = {\n",
    "    # Casa\n",
    "    \"CASA\": \"Casa\",\n",
    "    \"casa\": \"Casa\",\n",
    "    #Departamento\n",
    "    \"Departam.\" : \"Departamento\",\n",
    "    \"Depto.\": \"Departamento\",\n",
    "    \"Dpto\" : \"Departamento\",\n",
    "    #Mediagua\n",
    "    \"Media agua\" : \"Mediagua\",\n",
    "    #Casa Pareada\n",
    "    \"Pareada\" : \"Casa pareada\",\n",
    "}\n",
    "\n",
    "mapeo_material_paredes = {\n",
    "    #Hormigón\n",
    "    \"HORMIGÓN\": \"Hormigón\",\n",
    "    \"hormigon\": \"Hormigón\",\n",
    "    \"Concrete\": \"Hormigón\",\n",
    "    #Ladrillo\n",
    "    \"LADRILLO\" : \"Ladrillo\",\n",
    "    \"ladrillo\": \"Ladrillo\",\n",
    "    #Madera\n",
    "    \"Wood\" : \"Madera\",\n",
    "\n",
    "}\n",
    "tipo_vivienda = df[\"tipo_vivienda\"]\n",
    "material_paredes = df[\"material_paredes\"]\n",
    "\n",
    "\n",
    "\n",
    "tipo_vivienda = tipo_vivienda.replace(mapeo_tipo_vivienda)\n",
    "df[\"tipo_vivienda\"] = tipo_vivienda\n",
    "\n",
    "material_paredes = material_paredes.replace(mapeo_material_paredes)\n",
    "df[\"material_paredes\"] = material_paredes\n",
    "tabla_relaciones = pd.crosstab(tipo_vivienda, material_paredes)\n",
    "print(\"La relación de los tipos de casa y materiales de paredes es:\")\n",
    "print(\"-\"*50)\n",
    "print(tabla_relaciones)\n"
   ]
  },
  {
   "cell_type": "code",
   "execution_count": 492,
   "id": "bf1176a4-4992-4f11-aec9-bdcbdc41f899",
   "metadata": {},
   "outputs": [],
   "source": [
    "df.to_csv(\"datos_viviendas_censo_cleaned.csv\")"
   ]
  },
  {
   "cell_type": "code",
   "execution_count": null,
   "id": "41ca05cb-5c2b-422e-808e-8b681263e424",
   "metadata": {},
   "outputs": [],
   "source": []
  }
 ],
 "metadata": {
  "kernelspec": {
   "display_name": "Python [conda env:base] *",
   "language": "python",
   "name": "conda-base-py"
  },
  "language_info": {
   "codemirror_mode": {
    "name": "ipython",
    "version": 3
   },
   "file_extension": ".py",
   "mimetype": "text/x-python",
   "name": "python",
   "nbconvert_exporter": "python",
   "pygments_lexer": "ipython3",
   "version": "3.12.7"
  }
 },
 "nbformat": 4,
 "nbformat_minor": 5
}
